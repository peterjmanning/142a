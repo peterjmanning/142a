{
 "cells": [
  {
   "cell_type": "code",
   "execution_count": 1,
   "id": "80e3964a",
   "metadata": {
    "code_folding": []
   },
   "outputs": [],
   "source": [
    "import os\n",
    "import numpy as np\n",
    "import pandas as pd\n",
    "import matplotlib.pyplot as plt\n",
    "from matplotlib.widgets import Slider\n",
    "import statsmodels.formula.api as smf\n",
    "from sklearn.tree import DecisionTreeClassifier as DTC\n",
    "from sklearn.model_selection import GridSearchCV as gs\n",
    "from sklearn.metrics import accuracy_score, roc_auc_score\n",
    "from sklearn.ensemble import RandomForestClassifier as RFC\n",
    "from sklearn.ensemble import GradientBoostingClassifier as GBC\n",
    "from sklearn.discriminant_analysis import LinearDiscriminantAnalysis as LDA"
   ]
  },
  {
   "cell_type": "code",
   "execution_count": 2,
   "id": "1267ae20",
   "metadata": {
    "code_folding": []
   },
   "outputs": [],
   "source": [
    "# Load in data\n",
    "train = pd.read_csv(\"Letters_train_2024.csv\")\n",
    "test = pd.read_csv(\"Letters_test_2024.csv\")\n",
    "# TODO: Load in data (after analyzing the dataset, delete any ouputs such as df.inf(), df.head(), et). \n",
    "# this cell should not output anything"
   ]
  },
  {
   "cell_type": "markdown",
   "id": "86d6a9df",
   "metadata": {},
   "source": [
    "# Question 1 (25 points)"
   ]
  },
  {
   "cell_type": "code",
   "execution_count": 3,
   "id": "73e377b6",
   "metadata": {
    "code_folding": []
   },
   "outputs": [],
   "source": [
    "# TODO: Create new variable here\n",
    "train[\"isB\"] = train[\"letter\"].apply(lambda x: 1 if x == \"B\" else 0)\n",
    "test[\"isB\"] = test[\"letter\"].apply(lambda x: 1 if x == \"B\" else 0)"
   ]
  },
  {
   "cell_type": "code",
   "execution_count": 4,
   "id": "039a5cd0",
   "metadata": {
    "code_folding": []
   },
   "outputs": [],
   "source": [
    "# TODO: Split into X and y\n",
    "Xtrain = train.drop(columns = \"letter\")\n",
    "Xtest = test.drop(columns = \"letter\")\n",
    "\n",
    "Ytrain = train[\"letter\"]\n",
    "Ytest = test[\"letter\"]\n"
   ]
  },
  {
   "cell_type": "markdown",
   "id": "a7c2e726",
   "metadata": {},
   "source": [
    "### Part A: Baseline Model (3 points)"
   ]
  },
  {
   "cell_type": "code",
   "execution_count": 5,
   "id": "a5a6931e",
   "metadata": {
    "code_folding": [
     0
    ]
   },
   "outputs": [
    {
     "name": "stdout",
     "output_type": "stream",
     "text": [
      "Baseline Test Accuracy: 0.7497\n"
     ]
    }
   ],
   "source": [
    "# Q1A code\n",
    "# TODO: calcuate baseline accuracy\n",
    "mode = Xtrain[\"isB\"].mode()\n",
    "#index into value counts of test in order to get accuracy % correct for testing given training mode prediction only.\n",
    "sumMode =  Xtest[\"isB\"].value_counts()[mode][0]\n",
    "baseline_1_acc = sumMode / Ytest.shape[0]\n",
    "\n",
    "\n",
    "print(f'Baseline Test Accuracy: {baseline_1_acc:.4f}')\n"
   ]
  },
  {
   "cell_type": "markdown",
   "id": "eb0f7dca",
   "metadata": {},
   "source": [
    "### Part B: Logistic Regression (5 points)"
   ]
  },
  {
   "cell_type": "code",
   "execution_count": 6,
   "id": "7fba5965",
   "metadata": {
    "code_folding": [
     0
    ]
   },
   "outputs": [
    {
     "name": "stdout",
     "output_type": "stream",
     "text": [
      "Logistic Regression Test Acc: 0.9390374331550803\n"
     ]
    }
   ],
   "source": [
    "# Q1B code\n",
    "#assemble logit function based on all feature columns present in dataset.\n",
    "model = smf.logit(\"isB ~ xbox+ ybox+ width+ height+ onpix+ xbar+ ybar+ x2bar+ y2bar+ xybar+ x2ybar+ xy2bar+ xedge+ xedgeycor+ yedge+ yedgexcor\", data = Xtrain).fit(disp= False)\n",
    "\n",
    "#predict our held out testing data\n",
    "predictedProbs = model.predict(Xtest)\n",
    "\n",
    "#adjust to binary based on 0.5 threshold\n",
    "predicted_labels = [1 if prob >= 0.5 else 0 for prob in predictedProbs]\n",
    "truthBinaryLogit = Ytest.apply(lambda x: 1 if x ==\"B\" else 0)\n",
    "\n",
    "# TODO: calcuate logistic accuracy accuracy, I used sklearn's accuracy_score to save the hastle of comparing arrays repeatedly.\n",
    "model_1b_acc = accuracy_score(truthBinaryLogit, predicted_labels)\n",
    "print(\"Logistic Regression Test Acc:\", model_1b_acc)\n"
   ]
  },
  {
   "cell_type": "markdown",
   "id": "7495157d",
   "metadata": {},
   "source": [
    "### Part C: AUC (2 point)"
   ]
  },
  {
   "cell_type": "code",
   "execution_count": 7,
   "id": "94594df9",
   "metadata": {
    "code_folding": [
     0
    ]
   },
   "outputs": [
    {
     "name": "stdout",
     "output_type": "stream",
     "text": [
      "Logistic Regression Test AUC: 0.9764\n"
     ]
    }
   ],
   "source": [
    "# Q1C code\n",
    "truth_numeric = [1 if x == \"B\" else 0 for x in Ytest]\n",
    "model_1b_auc = roc_auc_score(truth_numeric, predictedProbs) # TODO: Calculate logistic AUC\n",
    "print(f'Logistic Regression Test AUC: {model_1b_auc:.4f}')"
   ]
  },
  {
   "cell_type": "markdown",
   "id": "ba75df07",
   "metadata": {},
   "source": [
    "### Part D: Cross-validated CART (5 points)"
   ]
  },
  {
   "cell_type": "markdown",
   "id": "a6132e51",
   "metadata": {},
   "source": [
    "**Written Answer**: I iterated over the ccp alpha parameter using a dictionary passed into gridsearchCV, aliased as gs. Using numpys linspace function, i created an arra, which started at 0, stopped at 0.007, and sliced this range into 200 ccp_alphas to try, and using a 10 fold split to validate our hyperparameter candidates, which I think is are reasonable numbers. In my experience, alphas greater than 0.01 are not good values to use for your tree fitting, as it requires the removal of any leaf to cause less than ccp alpha gain in imurity score, and large values allow for lots of pruning, likely shrinking our tree too much. using a cv did not help my accuracy much, even moving it around to different values or leaving it out, I still get the same accuracies give or take .02%. Finally, because the object i save the gridsearch call to stores the best parameters it finds for the given estimator, I just fit this classifier object to my training data, and predict away, whcih is how i actually used the best ccp_alpha found.. The out of sample accuracy was 93.7%. "
   ]
  },
  {
   "cell_type": "code",
   "execution_count": 8,
   "id": "dee59e95",
   "metadata": {
    "code_folding": [
     0
    ]
   },
   "outputs": [
    {
     "name": "stdout",
     "output_type": "stream",
     "text": [
      "Best ccp_alpha:  0.00084\n",
      "Random Forest Classifier Acc. : 0.939\n"
     ]
    }
   ],
   "source": [
    "# Q1D Code\n",
    "#remove column isB, which we needed for smf logistic regression\n",
    "trainFeatures, testFeatures = Xtrain.drop(columns = \"isB\"), Xtest.drop(columns = \"isB\")\n",
    "trainLabels, testLabels = Xtrain[\"isB\"], Xtest[\"isB\"]\n",
    "\n",
    "#search over this set of ccp_alphas for alpha with minimal error.\n",
    "grid = {'ccp_alpha': np.linspace(0,0.007, 200)}\n",
    "#declare classifier inside the gridSearch call, and search for best ccp_alpha out of the 200 options.\n",
    "gridModel = gs(DTC(random_state = 2024), param_grid = grid, cv = 10).fit(trainFeatures, trainLabels)\n",
    "\n",
    "#get Prediction array for all test observations, compare to test set target variables. proportion correct == accuracy for the model.\n",
    "preds = gridModel.predict(testFeatures)\n",
    "model_1d_acc = accuracy_score(testLabels,preds) # TODO: calculate best CV accuracy \n",
    "model_1d_best_ccp_alpha = round(gridModel.best_params_.get('ccp_alpha'), 5) # TODO: get best ccp_alpha\n",
    "\n",
    "print('Best ccp_alpha: ', model_1d_best_ccp_alpha)\n",
    "print(f\"Random Forest Classifier Acc. : {model_1d_acc:.3f}\")"
   ]
  },
  {
   "cell_type": "markdown",
   "id": "f65edd8a",
   "metadata": {},
   "source": [
    "### Part E: Random Forest (5 points)\n"
   ]
  },
  {
   "cell_type": "code",
   "execution_count": 9,
   "id": "28f7acb2",
   "metadata": {
    "code_folding": [
     0
    ]
   },
   "outputs": [
    {
     "name": "stdout",
     "output_type": "stream",
     "text": [
      "Random Forest Classifier Acc. : 0.971\n"
     ]
    }
   ],
   "source": [
    "# Q1E Code\n",
    "#fit the random forest classifier with default values for hyperparam, to the training data and giving it the labels as well.\n",
    "rfc = RFC(random_state = 2024).fit(Xtrain.drop(columns = \"isB\"), Xtrain[\"isB\"])\n",
    "\n",
    "rfPreds = rfc.predict(testFeatures) #generate predictions according to fitted RF model.\n",
    "\n",
    "\n",
    "# TODO: calculate random forest accuracy\n",
    "model_1e_acc =  accuracy_score(testLabels, rfPreds)\n",
    "print(f\"Random Forest Classifier Acc. : {model_1e_acc:.3f}\")\n"
   ]
  },
  {
   "cell_type": "markdown",
   "id": "53648a60",
   "metadata": {},
   "source": [
    "### Part F: Performance Comparison (5 points)"
   ]
  },
  {
   "cell_type": "markdown",
   "id": "e74bfd25",
   "metadata": {},
   "source": [
    "The random forest slightly outperformed the other two. It had a ~97% accuracy with no finetuning hyperparameters whatsoever. I'd argue that because our model is not one that likely has to be routinely evaluated and updated like a healthcare model or ecommerce algorithm, I think interpretability doesnt matter AS much. Once we get a good English alphabet classifier, we will likely not need to change or therefore need to understand its parameters, implications, etc, as the english language is quite stagnant on the general level on any frequent basis. It can just be an abstract tool, and if it a good tool, we use it. Accuracy here though, is of the utmost importance, as misclassifying words on any semi frequent basis in important documents, important communication, or text crawling can have downstream effects on the end users and other personnel working with your results."
   ]
  },
  {
   "cell_type": "code",
   "execution_count": 10,
   "id": "0015fa9c",
   "metadata": {
    "code_folding": []
   },
   "outputs": [
    {
     "data": {
      "text/html": [
       "<div>\n",
       "<style scoped>\n",
       "    .dataframe tbody tr th:only-of-type {\n",
       "        vertical-align: middle;\n",
       "    }\n",
       "\n",
       "    .dataframe tbody tr th {\n",
       "        vertical-align: top;\n",
       "    }\n",
       "\n",
       "    .dataframe thead th {\n",
       "        text-align: right;\n",
       "    }\n",
       "</style>\n",
       "<table border=\"1\" class=\"dataframe\">\n",
       "  <thead>\n",
       "    <tr style=\"text-align: right;\">\n",
       "      <th></th>\n",
       "      <th>Model Test Set Accuracy</th>\n",
       "    </tr>\n",
       "  </thead>\n",
       "  <tbody>\n",
       "    <tr>\n",
       "      <th>0</th>\n",
       "      <td>Logistic Reg. Model Acc. : 0.939</td>\n",
       "    </tr>\n",
       "    <tr>\n",
       "      <th>1</th>\n",
       "      <td>Decision Tree Classifier Acc. : 0.939</td>\n",
       "    </tr>\n",
       "    <tr>\n",
       "      <th>2</th>\n",
       "      <td>Random Forest Classifier Acc. : 0.971</td>\n",
       "    </tr>\n",
       "  </tbody>\n",
       "</table>\n",
       "</div>"
      ],
      "text/plain": [
       "                 Model Test Set Accuracy\n",
       "0       Logistic Reg. Model Acc. : 0.939\n",
       "1  Decision Tree Classifier Acc. : 0.939\n",
       "2  Random Forest Classifier Acc. : 0.971"
      ]
     },
     "execution_count": 10,
     "metadata": {},
     "output_type": "execute_result"
    }
   ],
   "source": [
    "# Q1F Code\n",
    "scores = pd.DataFrame({\n",
    "    \"Model Test Set Accuracy\":  \n",
    "     [f\"Logistic Reg. Model Acc. : {model_1b_acc:.3f}\",\n",
    "    f\"Decision Tree Classifier Acc. : {model_1d_acc:.3f}\",\n",
    "    f\"Random Forest Classifier Acc. : {model_1e_acc:.3f}\"]\n",
    "})\n",
    "scores\n",
    "# TODO: create df to compare performance"
   ]
  },
  {
   "cell_type": "markdown",
   "id": "e4307762",
   "metadata": {},
   "source": [
    "***\n",
    "# Question 2 (50 points)"
   ]
  },
  {
   "cell_type": "code",
   "execution_count": 11,
   "id": "0dd917ee",
   "metadata": {
    "code_folding": []
   },
   "outputs": [],
   "source": [
    "# TODO: Redefine target y \n",
    "ldaLabelsTrain= train[\"letter\"]\n",
    "ldaLabelsTest = test[\"letter\"]\n",
    "#fixing datasets\n",
    "ldaFeaturesTrain = train.drop(columns = [\"letter\", \"isB\"])\n",
    "ldaFeaturesTest = test.drop(columns = [\"letter\", \"isB\"])\n"
   ]
  },
  {
   "cell_type": "markdown",
   "id": "e2553f29",
   "metadata": {},
   "source": [
    "### Part A: Baseline Model (5 points)"
   ]
  },
  {
   "cell_type": "code",
   "execution_count": 12,
   "id": "3d84b11f",
   "metadata": {
    "code_folding": [
     0
    ]
   },
   "outputs": [
    {
     "name": "stdout",
     "output_type": "stream",
     "text": [
      "Baseline Test Accuracy: 0.2460\n"
     ]
    }
   ],
   "source": [
    "# Q2A\n",
    "#we want to predict mode of training data, and predict that for all observations regardless of x input.\n",
    "modeTraining = ldaLabelsTrain.mode()[0]\n",
    "#index into the valuecounts using our training mode, and we can get a very bad baseline accuracy!\n",
    "baseline = ldaLabelsTest.value_counts()[modeTraining]\n",
    "\n",
    "baseline_2_acc = baseline/ldaLabelsTest.shape[0]# TODO: calculate baseline accuracy\n",
    "print(f'Baseline Test Accuracy: {baseline_2_acc:.4f}')"
   ]
  },
  {
   "cell_type": "markdown",
   "id": "555f682d",
   "metadata": {},
   "source": [
    "### Part B: LDA (8 points)"
   ]
  },
  {
   "cell_type": "code",
   "execution_count": 13,
   "id": "8860299d",
   "metadata": {
    "code_folding": [
     0
    ]
   },
   "outputs": [
    {
     "name": "stdout",
     "output_type": "stream",
     "text": [
      "LDA Test Accuracy: 0.9123\n"
     ]
    }
   ],
   "source": [
    "# Q2B code\n",
    "# I simply fit the X matrix and target  y label vector to the LDA classifier, and without any fine tuning, this model was one of the worst out of the box.\n",
    "lda = LDA().fit(ldaFeaturesTrain, ldaLabelsTrain)\n",
    "#predict labels for all obs in test X matrix.\n",
    "ldaPreds = lda.predict(ldaFeaturesTest)\n",
    "\n",
    "model_2b_acc = accuracy_score(ldaLabelsTest, ldaPreds) # Calculate LDA accuracy\n",
    "print(f'LDA Test Accuracy: {model_2b_acc:.4f}')"
   ]
  },
  {
   "cell_type": "markdown",
   "id": "3c75cc6e",
   "metadata": {},
   "source": [
    "### Part C: Cross-validated CART (10 points)"
   ]
  },
  {
   "cell_type": "markdown",
   "id": "21dfa50d",
   "metadata": {},
   "source": [
    "**Written Answer**: Once again, I set a numpy linspace at 0--> 0.007, taking 250 steps to get there, trying each alpha to see which performs best under the validation sets provided by cv =5, meaning 5 folded dataset stratefied. Using gridsearch and passing in a Decision tree classifier, by calling predict on this gridsearch estimator, it had automatically stored the best ccp_alpha that i iterated through and validated using 4 folds of the dataset. Once again, the cv parameter didnt really improve accuracy but maybe it found a somehwat \"regularized\" ccp_alpha. Looking at the accuracy on out of sample data, it was 92.3%."
   ]
  },
  {
   "cell_type": "code",
   "execution_count": 14,
   "id": "80208cc3",
   "metadata": {
    "code_folding": [
     0
    ]
   },
   "outputs": [
    {
     "name": "stdout",
     "output_type": "stream",
     "text": [
      "CART Test Accuracy: 0.9230\n"
     ]
    }
   ],
   "source": [
    "# Q2C Code\n",
    "#make same ccp alpha dictionary to search \n",
    "params_ccp = {\"ccp_alpha\": np.linspace(0,0.007, 250)}\n",
    "#make gridTree, the classification tree with the best performing ccp_alpha, fitted to the same data as last q. \n",
    "gridTree = gs(DTC(random_state = 2024), param_grid = params_ccp, n_jobs = -1, cv = 4).fit(ldaFeaturesTrain, ldaLabelsTrain)\n",
    "#predict using test set without Y label column.\n",
    "ctmtPreds = gridTree.predict(ldaFeaturesTest)\n",
    "\n",
    "model_2c_acc = accuracy_score(ldaLabelsTest, ctmtPreds)# TODO: calculate CV CART accuracy\n",
    "print(f'CART Test Accuracy: {model_2c_acc:.4f}')"
   ]
  },
  {
   "cell_type": "markdown",
   "id": "1a31acb6",
   "metadata": {},
   "source": [
    "### Part D: Vanilla Bagging (8 points)"
   ]
  },
  {
   "cell_type": "code",
   "execution_count": 15,
   "id": "ce7d3724",
   "metadata": {
    "code_folding": [
     0
    ]
   },
   "outputs": [
    {
     "name": "stdout",
     "output_type": "stream",
     "text": [
      "No CV Random Forest Test Accuracy: 0.9604\n"
     ]
    }
   ],
   "source": [
    "# Q2D\n",
    "vbrForest = RFC(max_features = ldaFeaturesTrain.shape[1], random_state = 2024).fit(ldaFeaturesTrain, ldaLabelsTrain)\n",
    "vanillaPreds = vbrForest.predict(ldaFeaturesTest)\n",
    "model_2d_acc = accuracy_score(ldaLabelsTest, vanillaPreds) # TODO: Calculate vanilla bagging accuracy\n",
    "print(f'No CV Random Forest Test Accuracy: {model_2d_acc:.4f}')"
   ]
  },
  {
   "cell_type": "markdown",
   "id": "903d3365",
   "metadata": {},
   "source": [
    "### Part E: Cross-validated Random Forest (10 points)"
   ]
  },
  {
   "cell_type": "markdown",
   "id": "0ad086a5",
   "metadata": {},
   "source": [
    "**Written Answer**: To execute gridsearch cv, I set the cross validation folds at 6, and using these mini partitions of the dataset, I iterated over all possible values for max_features, 1--> 16, as there are 16 columns in training data. Then once i made my cvrForest estimator containing the best hyperparameters found automatically by gridsearch which maximize the accuracy for the seen training folds and training set. The accuracy i achieved was 97.54% at 6 folds and trying [1:16] features. It found that the best max_feature was 2, as well."
   ]
  },
  {
   "cell_type": "code",
   "execution_count": 16,
   "id": "f2bae54c",
   "metadata": {
    "code_folding": [
     0
    ]
   },
   "outputs": [
    {
     "name": "stdout",
     "output_type": "stream",
     "text": [
      "CV Random Forest Test Accuracy: 0.9754\n",
      "{'max_features': 2}\n"
     ]
    }
   ],
   "source": [
    "# Q2E\n",
    "\n",
    "feature_grid = {\"max_features\": np.arange(1,17)}\n",
    "cvrForest = gs(RFC( random_state = 2024),param_grid = feature_grid, cv = 6, n_jobs = -1).fit(ldaFeaturesTrain, ldaLabelsTrain)\n",
    "cvForestPreds = cvrForest.predict(ldaFeaturesTest)\n",
    "\n",
    "# TODO: Calculate RF accuracy\n",
    "model_2e_acc = accuracy_score(ldaLabelsTest, cvForestPreds)\n",
    "print(f'CV Random Forest Test Accuracy: {model_2e_acc:.4f}')\n",
    "print(cvrForest.best_params_)"
   ]
  },
  {
   "cell_type": "markdown",
   "id": "1969e7f2",
   "metadata": {},
   "source": [
    "### Part F: Gradient Boosting Classifier (9 points)"
   ]
  },
  {
   "cell_type": "code",
   "execution_count": 17,
   "id": "f9bd4e72",
   "metadata": {
    "code_folding": [
     0
    ]
   },
   "outputs": [
    {
     "name": "stdout",
     "output_type": "stream",
     "text": [
      "GBC Test Accuracy: 0.9701\n"
     ]
    }
   ],
   "source": [
    "# Q2F\n",
    "#Fit the gradient boosting classifier to the same data we've been using.\n",
    "gbc = GBC(n_estimators = 200, max_leaf_nodes = 10).fit(ldaFeaturesTrain, ldaLabelsTrain)\n",
    "#predict using hyperparameters 200 estimators and 10 leaf node max , keeping tree size narrow and lengthy.\n",
    "gbcPreds = gbc.predict(ldaFeaturesTest)\n",
    "model_2f_acc = accuracy_score(ldaLabelsTest, gbcPreds)# Calculate boosting accuracy\n",
    "print(f'GBC Test Accuracy: {model_2f_acc:.4f}')"
   ]
  },
  {
   "cell_type": "markdown",
   "id": "117e4e7e",
   "metadata": {},
   "source": [
    "*** \n",
    "\n",
    "# Question 3 (25 points)"
   ]
  },
  {
   "cell_type": "markdown",
   "id": "7971c9ac",
   "metadata": {},
   "source": [
    "## Part A (6 points)"
   ]
  },
  {
   "cell_type": "markdown",
   "id": "6ade6565",
   "metadata": {},
   "source": [
    "**Written Answer**: My two best models were Random forest classifier basic, and CV Random Forest classifier."
   ]
  },
  {
   "cell_type": "code",
   "execution_count": 18,
   "id": "2c98d259",
   "metadata": {
    "code_folding": [
     0
    ]
   },
   "outputs": [],
   "source": [
    "def performBootstrap(X,Y, model1, model2,nBootstrap) -> dict:\n",
    "    dict = {}\n",
    "     \n",
    "    nSamples = X.shape[0]\n",
    "    \n",
    "    \n",
    "    # Precompute the predictions for faster evaluations, and then just shuffle these.\n",
    "    model1Predictions = model1.predict(X)\n",
    "    model2Predictions = model2.predict(X)\n",
    "    \n",
    "    \n",
    "    for k in range(nBootstrap): \n",
    "        #set deterministic randomness with seed being k.\n",
    "        rng = np.random.default_rng(seed=k)\n",
    "        bootstrapIndices = rng.integers(0, nSamples, size = nSamples)\n",
    "        yBootstrap = Y[bootstrapIndices]\n",
    "        \n",
    "        #THIS IS FOR THE RFC MODEL, WHICH PREDICTS \"isB\" 1/0, not letter.  this transforms the letter distribution to a binary.\n",
    "        yBootstrapBinary = np.where(yBootstrap == \"B\", 1, 0)\n",
    "        \n",
    "        # Compute accuracies for the bootstrap sample\n",
    "        acc1 = accuracy_score(yBootstrap, model1Predictions[bootstrapIndices]) #for cvrforest\n",
    "        acc2 = accuracy_score(yBootstrapBinary, model2Predictions[bootstrapIndices]) #for rfc\n",
    "        \n",
    "        dict[k] = [acc1, acc2]\n",
    "\n",
    "    return dict\n",
    "    \"\"\"\n",
    "    TODO: Complete the function to perform bootstrap.\n",
    "    Function should return a dictionary of results from the bootstap. \n",
    "    We should be able to run your function exactly as is and reproduce the same results.\n",
    "    Check random seed when sampling\n",
    "    \"\"\"    "
   ]
  },
  {
   "cell_type": "code",
   "execution_count": 19,
   "id": "50123a9f",
   "metadata": {
    "code_folding": [
     0
    ]
   },
   "outputs": [
    {
     "name": "stdout",
     "output_type": "stream",
     "text": [
      "[[0.9657754010695188, 0.9732620320855615], [0.9711229946524064, 0.9668449197860962], [0.9711229946524064, 0.9711229946524064], [0.9764705882352941, 0.9679144385026738], [0.9786096256684492, 0.9732620320855615]]\n"
     ]
    }
   ],
   "source": [
    "# Q3A Code \n",
    "#Save call of accuracy distribution to \"dict\"\n",
    "dict = performBootstrap(ldaFeaturesTest, ldaLabelsTest, cvrForest, rfc, 10000) \n",
    "print([dict[i] for i in range(5)]) #dictionary of 10,000 lists, only first five elements are printed here.\n",
    "# TODO: Run bootstrap function above"
   ]
  },
  {
   "cell_type": "code",
   "execution_count": 20,
   "id": "a0be0b63",
   "metadata": {
    "code_folding": []
   },
   "outputs": [
    {
     "data": {
      "image/png": "[encoded data removed]",
      "text/plain": [
       "<Figure size 640x480 with 1 Axes>"
      ]
     },
     "metadata": {},
     "output_type": "display_data"
    }
   ],
   "source": [
    "# Q3A Code 2\n",
    "cvrArray = np.array([value[0] for value in dict.values()]) #first value of every list in the dictionary is going to by grouped with the other classifications its model made.\n",
    "rfcArray = np.array([value[1] for value in dict.values()]) #this one for all rfc predictions.\n",
    "\n",
    "#plot histogram showing density at each bin per classifier.\n",
    "plt.hist(cvrArray, label = \"Cross validated random Forest classifier\", bins = 25, density = True,alpha = 0.68)\n",
    "plt.hist(rfcArray, label = \"Random Forest Classifier\", bins = 25, density = True,alpha = 0.68)\n",
    "plt.legend()\n",
    "plt.title(\"Histogram for top two ranking classifiers\")\n",
    "plt.show()\n",
    "\n",
    "# TODO: Print any plots, dataframes, analysis to support your answer"
   ]
  },
  {
   "cell_type": "markdown",
   "id": "9947efa9",
   "metadata": {},
   "source": [
    "## Part B (6 points)"
   ]
  },
  {
   "cell_type": "code",
   "execution_count": 21,
   "id": "41114b73",
   "metadata": {
    "code_folding": []
   },
   "outputs": [
    {
     "name": "stdout",
     "output_type": "stream",
     "text": [
      "for cross-val RF: [0.9753124013379202, 0.9755102724588713] for basic RF: [0.971072312129202, 0.9712885434857712]\n"
     ]
    }
   ],
   "source": [
    "# Q3B\n",
    "#get mean accuracy of both individual classifiers.\n",
    "uc = np.mean(cvrArray)\n",
    "ur = np.mean(rfcArray)\n",
    "\n",
    "cse = 1.96*np.std(cvrArray)/100 #standard error for 95%CI, Z*sigma/sqrt(n)\n",
    "rse = 1.96*np.std(rfcArray)/100\n",
    "\n",
    "ci95forCvr = [uc - cse,uc +cse] #mean + / - standard error\n",
    "ci95forRfc = [ur-rse, ur+rse] \n",
    "\n",
    "\n",
    "print(\"for cross-val RF:\", ci95forCvr, \"for basic RF:\", ci95forRfc)\n",
    "\n",
    "# TODO: print out the confidence interval"
   ]
  },
  {
   "cell_type": "markdown",
   "id": "65b25c0a-065a-4ca5-8ca5-a6cee7618985",
   "metadata": {},
   "source": [
    "## Part C (6 points)"
   ]
  },
  {
   "cell_type": "code",
   "execution_count": 23,
   "id": "2f532cf4-93fa-442b-baa2-562368b0aefd",
   "metadata": {},
   "outputs": [
    {
     "data": {
      "image/png": "[encoded data removed]",
      "text/plain": [
       "<Figure size 640x480 with 1 Axes>"
      ]
     },
     "metadata": {},
     "output_type": "display_data"
    }
   ],
   "source": [
    "# Q3C\n",
    "#TODO: Compute difference in accuracy\n",
    "diff = cvrArray - rfcArray\n",
    "\n",
    "#plotting histogram using difference in accuracy values. high bins makes large, sharp gaps appear.\n",
    "plt.hist(diff, density = True, alpha = 0.9, bins = 60,label = \"histogram in difference in accuracy for all 10k predictions\")\n",
    "plt.legend()\n",
    "plt.show()\n",
    "\n"
   ]
  },
  {
   "cell_type": "markdown",
   "id": "b50a0002-f6d6-409c-b5e5-6292f933a634",
   "metadata": {},
   "source": [
    "## Part D (7 points)"
   ]
  },
  {
   "cell_type": "code",
   "execution_count": 24,
   "id": "6a78fe17-82c9-42a6-ae77-899a852a252a",
   "metadata": {},
   "outputs": [
    {
     "name": "stdout",
     "output_type": "stream",
     "text": [
      "95% CI for the difference vector: [0.004132632528221717, 0.004329185653596468]\n"
     ]
    }
   ],
   "source": [
    "# Q3D\n",
    "ud = np.mean(diff)\n",
    "dse = 1.96*np.std(diff)/100\n",
    "ci95diff = [ud-dse, ud+dse]\n",
    "print(\"95% CI for the difference vector:\", ci95diff)\n",
    "#TODO: Compute 95% confidence interval"
   ]
  },
  {
   "cell_type": "markdown",
   "id": "c2f2acb8-4b00-4ae4-8d5b-fbccfc8a75d8",
   "metadata": {},
   "source": [
    "### Written Answer, Part D\n",
    "\n",
    "In order to test a Null Hypothesis in a statistical setting, you first collect data, collect statistics on this data such as mean, quantity of data, and std, and you can establish a range of values where you'll be x% certain that the true parameter you are interested in falls between the lower and upper bounds, depending on your choice of z score. Given our 1.96 Z-score and hence 95% CI, and the fact that both the lower bound and upper bound are both positive, meaning the interval doesnt contain 0, we can reject the null hypothesis that \"neither classifier is better than the other\", and bet on a statistically significant difference between these two models,  because for a p-value at 0.05, we can be very confident that this relationship did not arise by random chance alone, but that our hypothesis is correct, that they are not quite equal after all. And so, we can go on our way using the statistically most likely model in order to predict our letters, the cross validated random forest.."
   ]
  }
 ],
 "metadata": {
  "kernelspec": {
   "display_name": "Python 3 (ipykernel)",
   "language": "python",
   "name": "python3"
  },
  "language_info": {
   "codemirror_mode": {
    "name": "ipython",
    "version": 3
   },
   "file_extension": ".py",
   "mimetype": "text/x-python",
   "name": "python",
   "nbconvert_exporter": "python",
   "pygments_lexer": "ipython3",
   "version": "3.11.11"
  }
 },
 "nbformat": 4,
 "nbformat_minor": 5
}
