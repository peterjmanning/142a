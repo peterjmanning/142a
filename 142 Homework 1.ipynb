{
 "cells": [
  {
   "cell_type": "code",
   "execution_count": 43,
   "id": "e1fb7276-649b-4767-9d79-9aacef019517",
   "metadata": {},
   "outputs": [],
   "source": [
    "import statsmodels.api as sm\n",
    "import statsmodels.formula.api as smf\n",
    "import pandas as pd\n",
    "import numpy as np"
   ]
  },
  {
   "cell_type": "code",
   "execution_count": 44,
   "id": "bb6acc02-41bf-4737-9f44-52cc5fc5a473",
   "metadata": {},
   "outputs": [],
   "source": [
    "civic = pd.read_csv(\"Civic-142A-Fall24.csv\")"
   ]
  },
  {
   "cell_type": "code",
   "execution_count": 45,
   "id": "7bf963ba-2fd0-4e87-b152-07c9998ffa68",
   "metadata": {},
   "outputs": [
    {
     "data": {
      "text/html": [
       "<div>\n",
       "<style scoped>\n",
       "    .dataframe tbody tr th:only-of-type {\n",
       "        vertical-align: middle;\n",
       "    }\n",
       "\n",
       "    .dataframe tbody tr th {\n",
       "        vertical-align: top;\n",
       "    }\n",
       "\n",
       "    .dataframe thead th {\n",
       "        text-align: right;\n",
       "    }\n",
       "</style>\n",
       "<table border=\"1\" class=\"dataframe\">\n",
       "  <thead>\n",
       "    <tr style=\"text-align: right;\">\n",
       "      <th></th>\n",
       "      <th>MonthNumeric</th>\n",
       "      <th>MonthFactor</th>\n",
       "      <th>Year</th>\n",
       "      <th>CivicSales</th>\n",
       "      <th>Unemployment</th>\n",
       "      <th>CivicQueries</th>\n",
       "      <th>CPIAll</th>\n",
       "      <th>CPIEnergy</th>\n",
       "      <th>MilesTraveled</th>\n",
       "    </tr>\n",
       "  </thead>\n",
       "  <tbody>\n",
       "    <tr>\n",
       "      <th>0</th>\n",
       "      <td>1</td>\n",
       "      <td>January</td>\n",
       "      <td>2014</td>\n",
       "      <td>21824</td>\n",
       "      <td>6.6</td>\n",
       "      <td>66</td>\n",
       "      <td>235.288</td>\n",
       "      <td>250.340</td>\n",
       "      <td>246531</td>\n",
       "    </tr>\n",
       "    <tr>\n",
       "      <th>1</th>\n",
       "      <td>2</td>\n",
       "      <td>February</td>\n",
       "      <td>2014</td>\n",
       "      <td>21575</td>\n",
       "      <td>6.7</td>\n",
       "      <td>69</td>\n",
       "      <td>235.547</td>\n",
       "      <td>249.925</td>\n",
       "      <td>249499</td>\n",
       "    </tr>\n",
       "    <tr>\n",
       "      <th>2</th>\n",
       "      <td>3</td>\n",
       "      <td>March</td>\n",
       "      <td>2014</td>\n",
       "      <td>27697</td>\n",
       "      <td>6.7</td>\n",
       "      <td>72</td>\n",
       "      <td>236.028</td>\n",
       "      <td>249.961</td>\n",
       "      <td>251120</td>\n",
       "    </tr>\n",
       "    <tr>\n",
       "      <th>3</th>\n",
       "      <td>4</td>\n",
       "      <td>April</td>\n",
       "      <td>2014</td>\n",
       "      <td>27611</td>\n",
       "      <td>6.2</td>\n",
       "      <td>69</td>\n",
       "      <td>236.468</td>\n",
       "      <td>249.864</td>\n",
       "      <td>251959</td>\n",
       "    </tr>\n",
       "    <tr>\n",
       "      <th>4</th>\n",
       "      <td>5</td>\n",
       "      <td>May</td>\n",
       "      <td>2014</td>\n",
       "      <td>36089</td>\n",
       "      <td>6.3</td>\n",
       "      <td>69</td>\n",
       "      <td>236.918</td>\n",
       "      <td>249.213</td>\n",
       "      <td>252289</td>\n",
       "    </tr>\n",
       "  </tbody>\n",
       "</table>\n",
       "</div>"
      ],
      "text/plain": [
       "   MonthNumeric MonthFactor  Year  CivicSales  Unemployment  CivicQueries  \\\n",
       "0             1     January  2014       21824           6.6            66   \n",
       "1             2    February  2014       21575           6.7            69   \n",
       "2             3       March  2014       27697           6.7            72   \n",
       "3             4       April  2014       27611           6.2            69   \n",
       "4             5         May  2014       36089           6.3            69   \n",
       "\n",
       "    CPIAll  CPIEnergy  MilesTraveled  \n",
       "0  235.288    250.340         246531  \n",
       "1  235.547    249.925         249499  \n",
       "2  236.028    249.961         251120  \n",
       "3  236.468    249.864         251959  \n",
       "4  236.918    249.213         252289  "
      ]
     },
     "execution_count": 45,
     "metadata": {},
     "output_type": "execute_result"
    }
   ],
   "source": [
    "train = civic[civic[\"Year\"] < 2020]\n",
    "test = civic[civic[\"Year\"] >= 2020]\n",
    "train.head()"
   ]
  },
  {
   "cell_type": "code",
   "execution_count": 46,
   "id": "e8b59fa8-6f60-4a66-8d4e-ea8f8bed8b49",
   "metadata": {},
   "outputs": [],
   "source": [
    "#list of vars to subset\n",
    "xVars = [\"CivicQueries\",\"CPIAll\"]\n",
    "\n",
    "# filter taining and test into independent vars list\n",
    "Xtrain = train[xVars]\n",
    "Xtest = test[xVars]\n",
    "\n",
    "#create target vectors to predict Sales\n",
    "Ytrain = train[[\"CivicSales\"]]\n",
    "Ytest = test[[\"CivicSales\"]]\n",
    "\n",
    "#add Constants\n",
    "Xtrain = sm.add_constant(Xtrain)\n",
    "Xtest = sm.add_constant(Xtest)\n"
   ]
  },
  {
   "cell_type": "code",
   "execution_count": 47,
   "id": "eb8fde77-4d63-4c46-ab20-bf7292fd1bb4",
   "metadata": {},
   "outputs": [],
   "source": [
    "model = sm.OLS(Ytrain, Xtrain)"
   ]
  },
  {
   "cell_type": "code",
   "execution_count": 48,
   "id": "6d18e6a2-a65d-48fa-9e53-174d67f1a892",
   "metadata": {},
   "outputs": [],
   "source": [
    "results = model.fit()"
   ]
  },
  {
   "cell_type": "code",
   "execution_count": 49,
   "id": "f856cfb4-3ba0-4aaf-b678-638f56a39f27",
   "metadata": {},
   "outputs": [
    {
     "name": "stdout",
     "output_type": "stream",
     "text": [
      "                            OLS Regression Results                            \n",
      "==============================================================================\n",
      "Dep. Variable:             CivicSales   R-squared:                       0.395\n",
      "Model:                            OLS   Adj. R-squared:                  0.377\n",
      "Method:                 Least Squares   F-statistic:                     22.51\n",
      "Date:                Mon, 27 Jan 2025   Prob (F-statistic):           2.98e-08\n",
      "Time:                        21:26:57   Log-Likelihood:                -689.88\n",
      "No. Observations:                  72   AIC:                             1386.\n",
      "Df Residuals:                      69   BIC:                             1393.\n",
      "Df Model:                           2                                         \n",
      "Covariance Type:            nonrobust                                         \n",
      "================================================================================\n",
      "                   coef    std err          t      P>|t|      [0.025      0.975]\n",
      "--------------------------------------------------------------------------------\n",
      "const         5.713e+04   1.45e+04      3.953      0.000    2.83e+04     8.6e+04\n",
      "CivicQueries   359.5442     53.958      6.663      0.000     251.901     467.187\n",
      "CPIAll        -230.2333     64.419     -3.574      0.001    -358.745    -101.722\n",
      "==============================================================================\n",
      "Omnibus:                        2.257   Durbin-Watson:                   1.622\n",
      "Prob(Omnibus):                  0.323   Jarque-Bera (JB):                1.780\n",
      "Skew:                           0.224   Prob(JB):                        0.411\n",
      "Kurtosis:                       2.374   Cond. No.                     8.77e+03\n",
      "==============================================================================\n",
      "\n",
      "Notes:\n",
      "[1] Standard Errors assume that the covariance matrix of the errors is correctly specified.\n",
      "[2] The condition number is large, 8.77e+03. This might indicate that there are\n",
      "strong multicollinearity or other numerical problems.\n"
     ]
    }
   ],
   "source": [
    "print(results.summary())"
   ]
  },
  {
   "cell_type": "code",
   "execution_count": 50,
   "id": "7e2c6091-44a5-46f2-850a-072205839d68",
   "metadata": {},
   "outputs": [
    {
     "data": {
      "text/html": [
       "<div>\n",
       "<style scoped>\n",
       "    .dataframe tbody tr th:only-of-type {\n",
       "        vertical-align: middle;\n",
       "    }\n",
       "\n",
       "    .dataframe tbody tr th {\n",
       "        vertical-align: top;\n",
       "    }\n",
       "\n",
       "    .dataframe thead th {\n",
       "        text-align: right;\n",
       "    }\n",
       "</style>\n",
       "<table border=\"1\" class=\"dataframe\">\n",
       "  <thead>\n",
       "    <tr style=\"text-align: right;\">\n",
       "      <th></th>\n",
       "      <th>MonthNumeric</th>\n",
       "      <th>MonthFactor</th>\n",
       "      <th>Year</th>\n",
       "      <th>CivicSales</th>\n",
       "      <th>Unemployment</th>\n",
       "      <th>CivicQueries</th>\n",
       "      <th>CPIAll</th>\n",
       "      <th>CPIEnergy</th>\n",
       "      <th>MilesTraveled</th>\n",
       "    </tr>\n",
       "  </thead>\n",
       "  <tbody>\n",
       "    <tr>\n",
       "      <th>72</th>\n",
       "      <td>1</td>\n",
       "      <td>January</td>\n",
       "      <td>2020</td>\n",
       "      <td>20054</td>\n",
       "      <td>3.5</td>\n",
       "      <td>74</td>\n",
       "      <td>259.037</td>\n",
       "      <td>219.917</td>\n",
       "      <td>285452</td>\n",
       "    </tr>\n",
       "    <tr>\n",
       "      <th>73</th>\n",
       "      <td>2</td>\n",
       "      <td>February</td>\n",
       "      <td>2020</td>\n",
       "      <td>25617</td>\n",
       "      <td>3.5</td>\n",
       "      <td>76</td>\n",
       "      <td>259.248</td>\n",
       "      <td>214.991</td>\n",
       "      <td>284040</td>\n",
       "    </tr>\n",
       "    <tr>\n",
       "      <th>74</th>\n",
       "      <td>3</td>\n",
       "      <td>March</td>\n",
       "      <td>2020</td>\n",
       "      <td>18273</td>\n",
       "      <td>4.4</td>\n",
       "      <td>66</td>\n",
       "      <td>258.124</td>\n",
       "      <td>201.747</td>\n",
       "      <td>224870</td>\n",
       "    </tr>\n",
       "    <tr>\n",
       "      <th>75</th>\n",
       "      <td>4</td>\n",
       "      <td>April</td>\n",
       "      <td>2020</td>\n",
       "      <td>13410</td>\n",
       "      <td>14.8</td>\n",
       "      <td>57</td>\n",
       "      <td>256.092</td>\n",
       "      <td>183.034</td>\n",
       "      <td>167174</td>\n",
       "    </tr>\n",
       "    <tr>\n",
       "      <th>76</th>\n",
       "      <td>5</td>\n",
       "      <td>May</td>\n",
       "      <td>2020</td>\n",
       "      <td>27244</td>\n",
       "      <td>13.3</td>\n",
       "      <td>78</td>\n",
       "      <td>255.868</td>\n",
       "      <td>179.281</td>\n",
       "      <td>204304</td>\n",
       "    </tr>\n",
       "  </tbody>\n",
       "</table>\n",
       "</div>"
      ],
      "text/plain": [
       "    MonthNumeric MonthFactor  Year  CivicSales  Unemployment  CivicQueries  \\\n",
       "72             1     January  2020       20054           3.5            74   \n",
       "73             2    February  2020       25617           3.5            76   \n",
       "74             3       March  2020       18273           4.4            66   \n",
       "75             4       April  2020       13410          14.8            57   \n",
       "76             5         May  2020       27244          13.3            78   \n",
       "\n",
       "     CPIAll  CPIEnergy  MilesTraveled  \n",
       "72  259.037    219.917         285452  \n",
       "73  259.248    214.991         284040  \n",
       "74  258.124    201.747         224870  \n",
       "75  256.092    183.034         167174  \n",
       "76  255.868    179.281         204304  "
      ]
     },
     "execution_count": 50,
     "metadata": {},
     "output_type": "execute_result"
    }
   ],
   "source": [
    "test.head(5)"
   ]
  },
  {
   "cell_type": "code",
   "execution_count": 51,
   "id": "7759a997-f639-4fe0-9625-e1ab925cc8d1",
   "metadata": {},
   "outputs": [],
   "source": [
    "modelMonths = smf.ols(\"CivicSales ~ CivicQueries + CPIAll + CPIEnergy + Unemployment + MilesTraveled + C(MonthFactor)\", data = train)"
   ]
  },
  {
   "cell_type": "code",
   "execution_count": 52,
   "id": "c4ffe020-85b8-45d0-965c-29bcd648686f",
   "metadata": {},
   "outputs": [],
   "source": [
    "results2 = modelMonths.fit()"
   ]
  },
  {
   "cell_type": "code",
   "execution_count": 53,
   "id": "d3c9410b-1258-4799-9765-0eef2995028e",
   "metadata": {},
   "outputs": [
    {
     "name": "stdout",
     "output_type": "stream",
     "text": [
      "                            OLS Regression Results                            \n",
      "==============================================================================\n",
      "Dep. Variable:             CivicSales   R-squared:                       0.765\n",
      "Model:                            OLS   Adj. R-squared:                  0.697\n",
      "Method:                 Least Squares   F-statistic:                     11.19\n",
      "Date:                Mon, 27 Jan 2025   Prob (F-statistic):           5.05e-12\n",
      "Time:                        21:26:57   Log-Likelihood:                -655.83\n",
      "No. Observations:                  72   AIC:                             1346.\n",
      "Df Residuals:                      55   BIC:                             1384.\n",
      "Df Model:                          16                                         \n",
      "Covariance Type:            nonrobust                                         \n",
      "===============================================================================================\n",
      "                                  coef    std err          t      P>|t|      [0.025      0.975]\n",
      "-----------------------------------------------------------------------------------------------\n",
      "Intercept                    2.597e+04   5.38e+04      0.482      0.631   -8.19e+04    1.34e+05\n",
      "C(MonthFactor)[T.August]     2810.6266   1501.365      1.872      0.067    -198.177    5819.430\n",
      "C(MonthFactor)[T.December]   2023.6110   1729.147      1.170      0.247   -1441.678    5488.900\n",
      "C(MonthFactor)[T.February]  -4350.5616   1509.515     -2.882      0.006   -7375.697   -1325.426\n",
      "C(MonthFactor)[T.January]   -5543.3141   1508.810     -3.674      0.001   -8567.038   -2519.591\n",
      "C(MonthFactor)[T.July]        796.0087   1510.946      0.527      0.600   -2231.995    3824.012\n",
      "C(MonthFactor)[T.June]        782.3073   1535.117      0.510      0.612   -2294.135    3858.750\n",
      "C(MonthFactor)[T.March]      1043.1405   1521.718      0.686      0.496   -2006.451    4092.732\n",
      "C(MonthFactor)[T.May]        4311.4869   1503.319      2.868      0.006    1298.768    7324.205\n",
      "C(MonthFactor)[T.November]  -1676.6088   1606.548     -1.044      0.301   -4896.202    1542.985\n",
      "C(MonthFactor)[T.October]   -2192.4334   1513.577     -1.449      0.153   -5225.709     840.842\n",
      "C(MonthFactor)[T.September] -1153.0328   1517.026     -0.760      0.450   -4193.221    1887.155\n",
      "CivicQueries                  257.9525     72.508      3.558      0.001     112.642     403.263\n",
      "CPIAll                       -363.9977    207.430     -1.755      0.085    -779.697      51.702\n",
      "CPIEnergy                      27.4736     38.325      0.717      0.476     -49.331     104.278\n",
      "Unemployment                  467.6756   1741.508      0.269      0.789   -3022.385    3957.737\n",
      "MilesTraveled                   0.2420      0.164      1.472      0.147      -0.087       0.571\n",
      "==============================================================================\n",
      "Omnibus:                        5.209   Durbin-Watson:                   1.308\n",
      "Prob(Omnibus):                  0.074   Jarque-Bera (JB):                4.456\n",
      "Skew:                           0.474   Prob(JB):                        0.108\n",
      "Kurtosis:                       3.765   Cond. No.                     4.83e+07\n",
      "==============================================================================\n",
      "\n",
      "Notes:\n",
      "[1] Standard Errors assume that the covariance matrix of the errors is correctly specified.\n",
      "[2] The condition number is large, 4.83e+07. This might indicate that there are\n",
      "strong multicollinearity or other numerical problems.\n"
     ]
    }
   ],
   "source": [
    "print(results2.summary())"
   ]
  },
  {
   "cell_type": "code",
   "execution_count": 54,
   "id": "21d16226-a777-4e13-b871-ecb366359170",
   "metadata": {},
   "outputs": [],
   "source": [
    "model3 = smf.ols(\"CivicSales ~ CivicQueries + CPIAll + C(MonthFactor)\", data = train).fit()"
   ]
  },
  {
   "cell_type": "code",
   "execution_count": 55,
   "id": "becbc07f-f08d-407d-a86a-aa9c68c189f3",
   "metadata": {},
   "outputs": [
    {
     "name": "stdout",
     "output_type": "stream",
     "text": [
      "                            OLS Regression Results                            \n",
      "==============================================================================\n",
      "Dep. Variable:             CivicSales   R-squared:                       0.756\n",
      "Model:                            OLS   Adj. R-squared:                  0.701\n",
      "Method:                 Least Squares   F-statistic:                     13.79\n",
      "Date:                Mon, 27 Jan 2025   Prob (F-statistic):           2.80e-13\n",
      "Time:                        21:26:57   Log-Likelihood:                -657.24\n",
      "No. Observations:                  72   AIC:                             1342.\n",
      "Df Residuals:                      58   BIC:                             1374.\n",
      "Df Model:                          13                                         \n",
      "Covariance Type:            nonrobust                                         \n",
      "===============================================================================================\n",
      "                                  coef    std err          t      P>|t|      [0.025      0.975]\n",
      "-----------------------------------------------------------------------------------------------\n",
      "Intercept                    6.078e+04   1.04e+04      5.838      0.000    3.99e+04    8.16e+04\n",
      "C(MonthFactor)[T.August]     2297.4909   1441.994      1.593      0.117    -588.974    5183.956\n",
      "C(MonthFactor)[T.December]   2255.3858   1559.828      1.446      0.154    -866.950    5377.722\n",
      "C(MonthFactor)[T.February]  -4944.7181   1438.721     -3.437      0.001   -7824.632   -2064.804\n",
      "C(MonthFactor)[T.January]   -5906.4114   1455.679     -4.057      0.000   -8820.269   -2992.554\n",
      "C(MonthFactor)[T.July]        245.1886   1443.417      0.170      0.866   -2644.125    3134.502\n",
      "C(MonthFactor)[T.June]        100.0323   1441.306      0.069      0.945   -2785.056    2985.120\n",
      "C(MonthFactor)[T.March]       374.8885   1437.445      0.261      0.795   -2502.471    3252.248\n",
      "C(MonthFactor)[T.May]        3743.5754   1437.176      2.605      0.012     866.755    6620.396\n",
      "C(MonthFactor)[T.November]  -2158.3494   1500.261     -1.439      0.156   -5161.449     844.750\n",
      "C(MonthFactor)[T.October]   -2545.2858   1456.460     -1.748      0.086   -5460.708     370.137\n",
      "C(MonthFactor)[T.September] -1581.3890   1452.733     -1.089      0.281   -4489.350    1326.572\n",
      "CivicQueries                  289.3001     48.340      5.985      0.000     192.536     386.064\n",
      "CPIAll                       -220.2553     49.162     -4.480      0.000    -318.663    -121.848\n",
      "==============================================================================\n",
      "Omnibus:                        5.392   Durbin-Watson:                   1.293\n",
      "Prob(Omnibus):                  0.067   Jarque-Bera (JB):                4.627\n",
      "Skew:                           0.493   Prob(JB):                       0.0989\n",
      "Kurtosis:                       3.755   Cond. No.                     9.12e+03\n",
      "==============================================================================\n",
      "\n",
      "Notes:\n",
      "[1] Standard Errors assume that the covariance matrix of the errors is correctly specified.\n",
      "[2] The condition number is large, 9.12e+03. This might indicate that there are\n",
      "strong multicollinearity or other numerical problems.\n"
     ]
    }
   ],
   "source": [
    "print(model3.summary())"
   ]
  },
  {
   "cell_type": "code",
   "execution_count": 56,
   "id": "a8fb2b71-f2e8-4128-adbd-39813fe5258a",
   "metadata": {},
   "outputs": [],
   "source": [
    "test.reset_index(drop=True, inplace=True)\n",
    "preds = model3.predict(test)"
   ]
  },
  {
   "cell_type": "code",
   "execution_count": 57,
   "id": "7c91be02-363f-4632-9bfe-a02771e775dd",
   "metadata": {},
   "outputs": [],
   "source": [
    "SSR = np.sum((test[\"CivicSales\"] - preds) ** 2)\n",
    "y_mean = np.mean(test[\"CivicSales\"])"
   ]
  },
  {
   "cell_type": "code",
   "execution_count": 58,
   "id": "a6f1d9e1-425e-4632-acdf-d6d1ab2a3623",
   "metadata": {},
   "outputs": [],
   "source": [
    "TSS = np.sum((test[\"CivicSales\"] - y_mean) ** 2)"
   ]
  },
  {
   "cell_type": "code",
   "execution_count": 59,
   "id": "f000b93a-254a-46aa-b3fb-f9c7fcb04910",
   "metadata": {},
   "outputs": [],
   "source": [
    "OSR2 = 1 - (SSR/TSS)"
   ]
  },
  {
   "cell_type": "code",
   "execution_count": 60,
   "id": "c57d0902-2616-4707-b6b6-33a355b40da7",
   "metadata": {},
   "outputs": [
    {
     "data": {
      "text/plain": [
       "-0.09021353946711175"
      ]
     },
     "execution_count": 60,
     "metadata": {},
     "output_type": "execute_result"
    }
   ],
   "source": [
    "OSR2"
   ]
  },
  {
   "cell_type": "code",
   "execution_count": 61,
   "id": "3e658def-4103-4240-901e-b6092fcc1198",
   "metadata": {},
   "outputs": [],
   "source": [
    "CCI = pd.read_csv(\"UMCSENT (1).csv\")"
   ]
  },
  {
   "cell_type": "code",
   "execution_count": 62,
   "id": "e86d9a7d-d8ac-44b9-a34e-16ef88815ee1",
   "metadata": {},
   "outputs": [],
   "source": [
    "CCI\n",
    "civic2 = pd.concat([civic, CCI[\"UMCSENT\"]],axis = 1)\n",
    "trainCCI = civic2[civic2[\"Year\"] < 2020]\n",
    "testCCI = civic2[civic2[\"Year\"] >= 2020]"
   ]
  },
  {
   "cell_type": "code",
   "execution_count": 63,
   "id": "ef3a5fb2-ad02-42ce-9c31-48a45970b280",
   "metadata": {},
   "outputs": [],
   "source": [
    "model4 = smf.ols(\"CivicSales ~ UMCSENT + C(MonthFactor) + CivicQueries + CPIAll\", data = trainCCI).fit()"
   ]
  },
  {
   "cell_type": "code",
   "execution_count": 64,
   "id": "793fe580-c8c5-4d40-955f-205393872bc0",
   "metadata": {},
   "outputs": [
    {
     "name": "stdout",
     "output_type": "stream",
     "text": [
      "                            OLS Regression Results                            \n",
      "==============================================================================\n",
      "Dep. Variable:             CivicSales   R-squared:                       0.757\n",
      "Model:                            OLS   Adj. R-squared:                  0.697\n",
      "Method:                 Least Squares   F-statistic:                     12.66\n",
      "Date:                Mon, 27 Jan 2025   Prob (F-statistic):           9.61e-13\n",
      "Time:                        21:26:57   Log-Likelihood:                -657.09\n",
      "No. Observations:                  72   AIC:                             1344.\n",
      "Df Residuals:                      57   BIC:                             1378.\n",
      "Df Model:                          14                                         \n",
      "Covariance Type:            nonrobust                                         \n",
      "===============================================================================================\n",
      "                                  coef    std err          t      P>|t|      [0.025      0.975]\n",
      "-----------------------------------------------------------------------------------------------\n",
      "Intercept                    6.043e+04   1.05e+04      5.752      0.000    3.94e+04    8.15e+04\n",
      "C(MonthFactor)[T.August]     2161.0249   1478.960      1.461      0.149    -800.541    5122.590\n",
      "C(MonthFactor)[T.December]   2405.6354   1600.868      1.503      0.138    -800.048    5611.318\n",
      "C(MonthFactor)[T.February]  -4931.0496   1448.613     -3.404      0.001   -7831.847   -2030.252\n",
      "C(MonthFactor)[T.January]   -5876.2250   1466.743     -4.006      0.000   -8813.327   -2939.123\n",
      "C(MonthFactor)[T.July]        158.8047   1464.064      0.108      0.914   -2772.933    3090.543\n",
      "C(MonthFactor)[T.June]         74.9039   1451.873      0.052      0.959   -2832.422    2982.230\n",
      "C(MonthFactor)[T.March]       362.0891   1447.295      0.250      0.803   -2536.068    3260.247\n",
      "C(MonthFactor)[T.May]        3724.6814   1447.310      2.574      0.013     826.492    6622.871\n",
      "C(MonthFactor)[T.November]  -2100.8033   1514.995     -1.387      0.171   -5134.528     932.921\n",
      "C(MonthFactor)[T.October]   -2562.0591   1466.606     -1.747      0.086   -5498.887     374.769\n",
      "C(MonthFactor)[T.September] -1640.4358   1467.558     -1.118      0.268   -4579.171    1298.299\n",
      "UMCSENT                       -36.7838     76.282     -0.482      0.632    -189.537     115.969\n",
      "CivicQueries                  296.8771     51.137      5.805      0.000     194.476     399.278\n",
      "CPIAll                       -207.1039     56.507     -3.665      0.001    -320.258     -93.950\n",
      "==============================================================================\n",
      "Omnibus:                        5.601   Durbin-Watson:                   1.287\n",
      "Prob(Omnibus):                  0.061   Jarque-Bera (JB):                4.879\n",
      "Skew:                           0.499   Prob(JB):                       0.0872\n",
      "Kurtosis:                       3.793   Cond. No.                     9.73e+03\n",
      "==============================================================================\n",
      "\n",
      "Notes:\n",
      "[1] Standard Errors assume that the covariance matrix of the errors is correctly specified.\n",
      "[2] The condition number is large, 9.73e+03. This might indicate that there are\n",
      "strong multicollinearity or other numerical problems.\n"
     ]
    }
   ],
   "source": [
    "print(model4.summary())"
   ]
  },
  {
   "cell_type": "code",
   "execution_count": 65,
   "id": "1b7cce8a-dc1e-4273-9e96-f3ee45008390",
   "metadata": {},
   "outputs": [],
   "source": [
    "preds4 = model4.predict(testCCI)"
   ]
  },
  {
   "cell_type": "code",
   "execution_count": 66,
   "id": "f9a0e303-7889-4f6c-ae8b-c9bf2a779cc7",
   "metadata": {},
   "outputs": [],
   "source": [
    "SSR_model4 = np.sum((testCCI[\"CivicSales\"] - preds4) ** 2)\n",
    "y_mean_model4 = np.mean(testCCI[\"CivicSales\"])\n",
    "TSS_model4 = np.sum((testCCI[\"CivicSales\"]-y_mean_model4)**2)"
   ]
  },
  {
   "cell_type": "code",
   "execution_count": 67,
   "id": "af699007-d85c-49a8-9f19-43265e03db7d",
   "metadata": {},
   "outputs": [],
   "source": [
    "RSquared_model4 = 1 - (SSR_model4/TSS_model4)"
   ]
  },
  {
   "cell_type": "code",
   "execution_count": 68,
   "id": "292cb4c4-c83d-416e-b551-9ccdfd0988e2",
   "metadata": {},
   "outputs": [
    {
     "data": {
      "text/plain": [
       "-0.4579339533332556"
      ]
     },
     "execution_count": 68,
     "metadata": {},
     "output_type": "execute_result"
    }
   ],
   "source": [
    "RSquared_model4"
   ]
  }
 ],
 "metadata": {
  "kernelspec": {
   "display_name": "Python 3 (ipykernel)",
   "language": "python",
   "name": "python3"
  },
  "language_info": {
   "codemirror_mode": {
    "name": "ipython",
    "version": 3
   },
   "file_extension": ".py",
   "mimetype": "text/x-python",
   "name": "python",
   "nbconvert_exporter": "python",
   "pygments_lexer": "ipython3",
   "version": "3.11.11"
  }
 },
 "nbformat": 4,
 "nbformat_minor": 5
}
