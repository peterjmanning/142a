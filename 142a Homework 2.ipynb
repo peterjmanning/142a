{
 "cells": [
  {
   "cell_type": "code",
   "execution_count": 37,
   "id": "4016b268-6029-4590-ba4b-256d26bc084d",
   "metadata": {},
   "outputs": [],
   "source": [
    "import statsmodels.api as sm\n",
    "import statsmodels.formula.api as smf\n",
    "import matplotlib.pyplot as plt\n",
    "from sklearn.metrics import roc_curve, auc\n",
    "import pandas as pd\n",
    "import numpy as np"
   ]
  },
  {
   "cell_type": "code",
   "execution_count": 38,
   "id": "80dc536c-610c-461f-a5a4-56465fe45989",
   "metadata": {},
   "outputs": [
    {
     "data": {
      "text/html": [
       "<div>\n",
       "<style scoped>\n",
       "    .dataframe tbody tr th:only-of-type {\n",
       "        vertical-align: middle;\n",
       "    }\n",
       "\n",
       "    .dataframe tbody tr th {\n",
       "        vertical-align: top;\n",
       "    }\n",
       "\n",
       "    .dataframe thead th {\n",
       "        text-align: right;\n",
       "    }\n",
       "</style>\n",
       "<table border=\"1\" class=\"dataframe\">\n",
       "  <thead>\n",
       "    <tr style=\"text-align: right;\">\n",
       "      <th></th>\n",
       "      <th>male</th>\n",
       "      <th>age</th>\n",
       "      <th>education</th>\n",
       "      <th>currentSmoker</th>\n",
       "      <th>cigsPerDay</th>\n",
       "      <th>BPMeds</th>\n",
       "      <th>prevalentStroke</th>\n",
       "      <th>prevalentHyp</th>\n",
       "      <th>diabetes</th>\n",
       "      <th>totChol</th>\n",
       "      <th>sysBP</th>\n",
       "      <th>diaBP</th>\n",
       "      <th>BMI</th>\n",
       "      <th>heartRate</th>\n",
       "      <th>glucose</th>\n",
       "      <th>TenYearCHD</th>\n",
       "    </tr>\n",
       "  </thead>\n",
       "  <tbody>\n",
       "    <tr>\n",
       "      <th>0</th>\n",
       "      <td>0</td>\n",
       "      <td>37</td>\n",
       "      <td>Some high school</td>\n",
       "      <td>0</td>\n",
       "      <td>0</td>\n",
       "      <td>0</td>\n",
       "      <td>0</td>\n",
       "      <td>0</td>\n",
       "      <td>0</td>\n",
       "      <td>300</td>\n",
       "      <td>112.0</td>\n",
       "      <td>60.0</td>\n",
       "      <td>23.67</td>\n",
       "      <td>81</td>\n",
       "      <td>75</td>\n",
       "      <td>0</td>\n",
       "    </tr>\n",
       "    <tr>\n",
       "      <th>1</th>\n",
       "      <td>1</td>\n",
       "      <td>42</td>\n",
       "      <td>Some college/vocational school</td>\n",
       "      <td>1</td>\n",
       "      <td>10</td>\n",
       "      <td>0</td>\n",
       "      <td>0</td>\n",
       "      <td>0</td>\n",
       "      <td>0</td>\n",
       "      <td>175</td>\n",
       "      <td>116.0</td>\n",
       "      <td>72.5</td>\n",
       "      <td>28.61</td>\n",
       "      <td>63</td>\n",
       "      <td>95</td>\n",
       "      <td>0</td>\n",
       "    </tr>\n",
       "    <tr>\n",
       "      <th>2</th>\n",
       "      <td>0</td>\n",
       "      <td>42</td>\n",
       "      <td>Some high school</td>\n",
       "      <td>1</td>\n",
       "      <td>20</td>\n",
       "      <td>0</td>\n",
       "      <td>0</td>\n",
       "      <td>1</td>\n",
       "      <td>0</td>\n",
       "      <td>199</td>\n",
       "      <td>141.0</td>\n",
       "      <td>92.0</td>\n",
       "      <td>43.69</td>\n",
       "      <td>80</td>\n",
       "      <td>60</td>\n",
       "      <td>1</td>\n",
       "    </tr>\n",
       "    <tr>\n",
       "      <th>3</th>\n",
       "      <td>0</td>\n",
       "      <td>55</td>\n",
       "      <td>High school/GED</td>\n",
       "      <td>1</td>\n",
       "      <td>5</td>\n",
       "      <td>0</td>\n",
       "      <td>0</td>\n",
       "      <td>0</td>\n",
       "      <td>0</td>\n",
       "      <td>315</td>\n",
       "      <td>123.0</td>\n",
       "      <td>77.5</td>\n",
       "      <td>26.21</td>\n",
       "      <td>75</td>\n",
       "      <td>84</td>\n",
       "      <td>0</td>\n",
       "    </tr>\n",
       "    <tr>\n",
       "      <th>4</th>\n",
       "      <td>1</td>\n",
       "      <td>56</td>\n",
       "      <td>High school/GED</td>\n",
       "      <td>1</td>\n",
       "      <td>20</td>\n",
       "      <td>0</td>\n",
       "      <td>0</td>\n",
       "      <td>0</td>\n",
       "      <td>0</td>\n",
       "      <td>270</td>\n",
       "      <td>109.0</td>\n",
       "      <td>75.0</td>\n",
       "      <td>24.58</td>\n",
       "      <td>67</td>\n",
       "      <td>64</td>\n",
       "      <td>0</td>\n",
       "    </tr>\n",
       "  </tbody>\n",
       "</table>\n",
       "</div>"
      ],
      "text/plain": [
       "   male  age                       education  currentSmoker  cigsPerDay  \\\n",
       "0     0   37                Some high school              0           0   \n",
       "1     1   42  Some college/vocational school              1          10   \n",
       "2     0   42                Some high school              1          20   \n",
       "3     0   55                 High school/GED              1           5   \n",
       "4     1   56                 High school/GED              1          20   \n",
       "\n",
       "   BPMeds  prevalentStroke  prevalentHyp  diabetes  totChol  sysBP  diaBP  \\\n",
       "0       0                0             0         0      300  112.0   60.0   \n",
       "1       0                0             0         0      175  116.0   72.5   \n",
       "2       0                0             1         0      199  141.0   92.0   \n",
       "3       0                0             0         0      315  123.0   77.5   \n",
       "4       0                0             0         0      270  109.0   75.0   \n",
       "\n",
       "     BMI  heartRate  glucose  TenYearCHD  \n",
       "0  23.67         81       75           0  \n",
       "1  28.61         63       95           0  \n",
       "2  43.69         80       60           1  \n",
       "3  26.21         75       84           0  \n",
       "4  24.58         67       64           0  "
      ]
     },
     "execution_count": 38,
     "metadata": {},
     "output_type": "execute_result"
    }
   ],
   "source": [
    "data = pd.read_csv(\"framingham_train.csv\")\n",
    "data.head()"
   ]
  },
  {
   "cell_type": "code",
   "execution_count": 55,
   "id": "96d86789-1874-460d-a3bc-318406301c6f",
   "metadata": {},
   "outputs": [
    {
     "name": "stdout",
     "output_type": "stream",
     "text": [
      "Optimization terminated successfully.\n",
      "         Current function value: 0.379592\n",
      "         Iterations 7\n"
     ]
    }
   ],
   "source": [
    "model = smf.logit(\"TenYearCHD ~ male +age +education +currentSmoker\t+cigsPerDay\t\\\n",
    "                    +BPMeds\t+prevalentStroke +prevalentHyp +diabetes +totChol \\\n",
    "                    +sysBP +diaBP +BMI+ heartRate +glucose\", data = data).fit()"
   ]
  },
  {
   "cell_type": "code",
   "execution_count": 40,
   "id": "6bbef310-55b6-4a0b-b1d6-024c365e33c9",
   "metadata": {},
   "outputs": [
    {
     "name": "stdout",
     "output_type": "stream",
     "text": [
      "                           Logit Regression Results                           \n",
      "==============================================================================\n",
      "Dep. Variable:             TenYearCHD   No. Observations:                 2560\n",
      "Model:                          Logit   Df Residuals:                     2542\n",
      "Method:                           MLE   Df Model:                           17\n",
      "Date:                Mon, 27 Jan 2025   Pseudo R-squ.:                  0.1147\n",
      "Time:                        21:23:39   Log-Likelihood:                -971.75\n",
      "converged:                       True   LL-Null:                       -1097.6\n",
      "Covariance Type:            nonrobust   LLR p-value:                 9.215e-44\n",
      "===============================================================================================================\n",
      "                                                  coef    std err          z      P>|z|      [0.025      0.975]\n",
      "---------------------------------------------------------------------------------------------------------------\n",
      "Intercept                                      -8.2638      0.839     -9.854      0.000      -9.908      -6.620\n",
      "education[T.High school/GED]                   -0.1922      0.205     -0.938      0.348      -0.594       0.210\n",
      "education[T.Some college/vocational school]    -0.2265      0.231     -0.982      0.326      -0.679       0.226\n",
      "education[T.Some high school]                  -0.0871      0.193     -0.451      0.652      -0.465       0.291\n",
      "male                                            0.6322      0.132      4.793      0.000       0.374       0.891\n",
      "age                                             0.0592      0.008      7.393      0.000       0.044       0.075\n",
      "currentSmoker                                   0.0203      0.187      0.109      0.914      -0.345       0.386\n",
      "cigsPerDay                                      0.0171      0.007      2.360      0.018       0.003       0.031\n",
      "BPMeds                                          0.3086      0.295      1.047      0.295      -0.269       0.886\n",
      "prevalentStroke                                 0.6558      0.532      1.233      0.218      -0.387       1.698\n",
      "prevalentHyp                                    0.2854      0.165      1.734      0.083      -0.037       0.608\n",
      "diabetes                                       -0.0748      0.379     -0.198      0.843      -0.817       0.667\n",
      "totChol                                         0.0031      0.001      2.399      0.016       0.001       0.006\n",
      "sysBP                                           0.0125      0.004      2.775      0.006       0.004       0.021\n",
      "diaBP                                          -0.0032      0.008     -0.420      0.674      -0.018       0.012\n",
      "BMI                                             0.0068      0.015      0.450      0.653      -0.023       0.036\n",
      "heartRate                                      -0.0009      0.005     -0.189      0.850      -0.011       0.009\n",
      "glucose                                         0.0086      0.003      3.236      0.001       0.003       0.014\n",
      "===============================================================================================================\n"
     ]
    }
   ],
   "source": [
    "print(model.summary())"
   ]
  },
  {
   "cell_type": "code",
   "execution_count": 41,
   "id": "fb3806b2-135f-4d34-8ac1-10e8ba266b68",
   "metadata": {},
   "outputs": [],
   "source": [
    "test = pd.read_csv(\"framingham_test.csv\")"
   ]
  },
  {
   "cell_type": "code",
   "execution_count": 42,
   "id": "b8806fb3-7300-4a6c-84b5-0b88ec0160ae",
   "metadata": {},
   "outputs": [
    {
     "data": {
      "text/plain": [
       "0       0.069521\n",
       "1       0.203809\n",
       "2       0.063341\n",
       "3       0.055820\n",
       "4       0.275753\n",
       "          ...   \n",
       "1093    0.059773\n",
       "1094    0.046459\n",
       "1095    0.171108\n",
       "1096    0.153250\n",
       "1097    0.035033\n",
       "Length: 1098, dtype: float64"
      ]
     },
     "execution_count": 42,
     "metadata": {},
     "output_type": "execute_result"
    }
   ],
   "source": [
    "yprob = model.predict(test)\n",
    "yprob"
   ]
  },
  {
   "cell_type": "code",
   "execution_count": 43,
   "id": "eb910f70-cf3b-4414-9f57-376067b0e55a",
   "metadata": {},
   "outputs": [],
   "source": [
    "yPreds = pd.Series([1 if x > (0.1858) else 0 for x in yprob], index=yprob.index)"
   ]
  },
  {
   "cell_type": "code",
   "execution_count": 44,
   "id": "d54e7a0b-0d06-4db9-8ac7-62c6ac69d190",
   "metadata": {},
   "outputs": [
    {
     "data": {
      "text/plain": [
       "314"
      ]
     },
     "execution_count": 44,
     "metadata": {},
     "output_type": "execute_result"
    }
   ],
   "source": [
    "np.sum(yPreds)"
   ]
  },
  {
   "cell_type": "code",
   "execution_count": 45,
   "id": "ecbf7f92-6730-43bd-a5a4-941da71956b4",
   "metadata": {},
   "outputs": [
    {
     "name": "stdout",
     "output_type": "stream",
     "text": [
      "True Positive Rate (TPR): 0.57\n",
      "False Positive Rate (FPR): 0.24\n",
      "Accuracy: 0.73\n"
     ]
    }
   ],
   "source": [
    "y_true = pd.Series(test[\"TenYearCHD\"])\n",
    "y_pred = pd.Series(yPreds)\n",
    "\n",
    "# Calculate True Positives, False Positives, True Negatives, and False Negatives\n",
    "TP = np.sum((y_true == 1) & (y_pred == 1))  # True Positives\n",
    "FP = np.sum((y_true == 0) & (y_pred == 1))  # False Positives\n",
    "TN = np.sum((y_true == 0) & (y_pred == 0))  # True Negatives\n",
    "FN = np.sum((y_true == 1) & (y_pred == 0))  # False Negatives\n",
    "\n",
    "# Calculate TPR (True Positive Rate)\n",
    "tpr = TP / (TP + FN) if (TP + FN) != 0 else 0\n",
    "\n",
    "# Calculate FPR (False Positive Rate)\n",
    "fpr = FP / (FP + TN) if (FP + TN) != 0 else 0\n",
    "\n",
    "# Calculate Accuracy\n",
    "accuracy = (TP + TN) / (TP + TN + FP + FN)\n",
    "\n",
    "print(f\"True Positive Rate (TPR): {tpr:.2f}\")\n",
    "print(f\"False Positive Rate (FPR): {fpr:.2f}\")\n",
    "print(f\"Accuracy: {accuracy:.2f}\")"
   ]
  },
  {
   "cell_type": "code",
   "execution_count": 46,
   "id": "d191a401-8385-4e65-b258-aa68043a43ee",
   "metadata": {},
   "outputs": [],
   "source": [
    "costsNaive = [(150000 + 1092500*p) for p in yprob]"
   ]
  },
  {
   "cell_type": "code",
   "execution_count": 47,
   "id": "a97dffc2-4501-40c2-8ac7-64b1fa2c93cf",
   "metadata": {},
   "outputs": [
    {
     "data": {
      "text/plain": [
       "314617.341916462"
      ]
     },
     "execution_count": 47,
     "metadata": {},
     "output_type": "execute_result"
    }
   ],
   "source": [
    "np.mean(pd.Series(costsNaive))"
   ]
  },
  {
   "cell_type": "code",
   "execution_count": 48,
   "id": "4164fa06-2a90-46ef-88a9-ea79e9927bf8",
   "metadata": {},
   "outputs": [],
   "source": [
    "costsPredicted = [(950000* p ) if p<= 0.1858 \n",
    "                  else (0.15*p)*1100000 + (1-0.15*p)*150000\n",
    "                  for p in yprob]"
   ]
  },
  {
   "cell_type": "code",
   "execution_count": 49,
   "id": "7f390c4c-2703-4017-b811-2732f021efeb",
   "metadata": {},
   "outputs": [
    {
     "data": {
      "text/plain": [
       "116660.55585210783"
      ]
     },
     "execution_count": 49,
     "metadata": {},
     "output_type": "execute_result"
    }
   ],
   "source": [
    "np.mean(pd.Series(costsPredicted))"
   ]
  },
  {
   "cell_type": "code",
   "execution_count": 50,
   "id": "e5f9df90-3643-47a3-bd8e-547beb9d2b72",
   "metadata": {},
   "outputs": [],
   "source": [
    "zero = np.zeros(1098)"
   ]
  },
  {
   "cell_type": "code",
   "execution_count": 51,
   "id": "f1ef6add-22ee-4eb6-b1f1-427e460df953",
   "metadata": {},
   "outputs": [
    {
     "name": "stdout",
     "output_type": "stream",
     "text": [
      "True Positive Rate (TPR): 0.00\n",
      "False Positive Rate (FPR): 0.00\n",
      "Accuracy: 0.85\n"
     ]
    }
   ],
   "source": [
    "# Calculate True Positives, False Positives, True Negatives, and False Negatives\n",
    "TP = np.sum((y_true == 1) & (zero == 1))  # True Positives\n",
    "FP = np.sum((y_true == 0) & (zero == 1))  # False Positives\n",
    "TN = np.sum((y_true == 0) & (zero == 0))  # True Negatives\n",
    "FN = np.sum((y_true == 1) & (zero == 0))  # False Negatives\n",
    "\n",
    "# Calculate TPR (True Positive Rate)\n",
    "tpr = TP / (TP + FN) if (TP + FN) != 0 else 0\n",
    "\n",
    "# Calculate FPR (False Positive Rate)\n",
    "fpr = FP / (FP + TN) if (FP + TN) != 0 else 0\n",
    "\n",
    "# Calculate Accuracy\n",
    "accuracy = (TP + TN) / (TP + TN + FP + FN)\n",
    "\n",
    "print(f\"True Positive Rate (TPR): {tpr:.2f}\")\n",
    "print(f\"False Positive Rate (FPR): {fpr:.2f}\")\n",
    "print(f\"Accuracy: {accuracy:.2f}\")"
   ]
  },
  {
   "cell_type": "code",
   "execution_count": 52,
   "id": "ede72f03-6f6d-4498-a89d-6506e1529d0a",
   "metadata": {},
   "outputs": [],
   "source": [
    "negCosts = [950000*p for p in yprob]"
   ]
  },
  {
   "cell_type": "code",
   "execution_count": 53,
   "id": "d607f847-85a4-4d02-8239-02be76c709db",
   "metadata": {},
   "outputs": [
    {
     "data": {
      "text/plain": [
       "143145.51470996696"
      ]
     },
     "execution_count": 53,
     "metadata": {},
     "output_type": "execute_result"
    }
   ],
   "source": [
    "np.mean(pd.Series(negCosts))"
   ]
  },
  {
   "cell_type": "code",
   "execution_count": 54,
   "id": "f3d8e4bb-2190-4ef7-bb8d-e80325469726",
   "metadata": {},
   "outputs": [
    {
     "data": {
      "image/png": "[encoded data removed]",
      "text/plain": [
       "<Figure size 800x600 with 1 Axes>"
      ]
     },
     "metadata": {},
     "output_type": "display_data"
    }
   ],
   "source": [
    "y_train = data[\"TenYearCHD\"]\n",
    "X_train = data.drop(['TenYearCHD'], axis=1)\n",
    "\n",
    "y_test = test['TenYearCHD']\n",
    "X_test = test.drop(['TenYearCHD'], axis=1)\n",
    "\n",
    "fpr, tpr, _ = roc_curve(y_test, yprob)\n",
    "roc_auc = auc(fpr, tpr)\n",
    "\n",
    "plt.figure(figsize=(8, 6))\n",
    "plt.title('ROC Curve', fontsize=18)\n",
    "plt.xlabel('FPR', fontsize=16)\n",
    "plt.ylabel('TPR', fontsize=16)\n",
    "plt.xlim([-0.01, 1.00])\n",
    "plt.ylim([-0.01, 1.01])\n",
    "plt.plot(fpr, tpr, lw=3, label='Logistic Regression (area = {:0.2f})'.format(roc_auc))\n",
    "plt.plot([0, 1], [0, 1], color='navy', lw=3, linestyle='--', label='Naive Baseline (area = 0.50)')\n",
    "plt.legend(loc='lower right', fontsize=14)\n",
    "plt.show()"
   ]
  }
 ],
 "metadata": {
  "kernelspec": {
   "display_name": "Python 3 (ipykernel)",
   "language": "python",
   "name": "python3"
  },
  "language_info": {
   "codemirror_mode": {
    "name": "ipython",
    "version": 3
   },
   "file_extension": ".py",
   "mimetype": "text/x-python",
   "name": "python",
   "nbconvert_exporter": "python",
   "pygments_lexer": "ipython3",
   "version": "3.11.11"
  }
 },
 "nbformat": 4,
 "nbformat_minor": 5
}
